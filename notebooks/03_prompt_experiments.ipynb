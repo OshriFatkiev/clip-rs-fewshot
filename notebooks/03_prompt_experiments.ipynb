{
 "cells": [
  {
   "cell_type": "markdown",
   "id": "d3394e15",
   "metadata": {},
   "source": [
    "# Week 3 — Prompt Optimization & Ablations on EuroSAT (OpenCLIP + HF Datasets)\n",
    "\n",
    "**Goals**\n",
    "- Systematically test prompt templates (and optional synonyms).\n",
    "- Compare single prompts vs. prompt ensembles.\n",
    "- Report per-class sensitivity + pick a best prompt set.\n",
    "\n",
    "**Inputs**\n",
    "- Same HF EuroSAT val split from Weeks 1–2.\n",
    "- Same model/weights as Week 1–2 (change if you want).\n",
    "\n",
    "**Outputs**\n",
    "- Table of prompt → Top-1/Top-5\n",
    "- Per-class accuracy heatmap across prompts\n",
    "- Best single prompt vs. ensemble\n",
    "- Artifacts in `../results/prompt_exp`"
   ]
  },
  {
   "cell_type": "code",
   "execution_count": 26,
   "id": "767a7d2e",
   "metadata": {},
   "outputs": [
    {
     "name": "stdout",
     "output_type": "stream",
     "text": [
      "Device: cuda\n",
      "Output: /home/oshri/code/clip-rs-fewshot/results/prompt_exp/ViT-B-32_synonyms1_seed42\n"
     ]
    }
   ],
   "source": [
    "import os, math, json, random\n",
    "from pathlib import Path\n",
    "from typing import List, Dict\n",
    "from collections import defaultdict\n",
    "\n",
    "import numpy as np\n",
    "import torch\n",
    "import torch.nn as nn\n",
    "from torch.utils.data import Dataset, DataLoader\n",
    "\n",
    "import matplotlib.pyplot as plt\n",
    "from sklearn.metrics import confusion_matrix, top_k_accuracy_score\n",
    "\n",
    "import open_clip\n",
    "from datasets import load_dataset, DatasetDict\n",
    "from PIL import Image\n",
    "\n",
    "# Repro & device\n",
    "SEED = 42\n",
    "random.seed(SEED); np.random.seed(SEED); torch.manual_seed(SEED)\n",
    "DEVICE = \"cuda\" if torch.cuda.is_available() else \"cpu\"\n",
    "\n",
    "# Model (same as Week 2; feel free to bump to ViT-L/14 for stronger results)\n",
    "MODEL_NAME = \"ViT-B-32\"\n",
    "PRETRAINED = \"laion2b_s34b_b79k\"\n",
    "\n",
    "# Data split\n",
    "HOLDOUT_FRACTION = 0.2  # must match Week 1–2 for apples-to-apples\n",
    "\n",
    "# Prompts under test (edit/add freely)\n",
    "PROMPT_TEMPLATES = [\n",
    "    \"a satellite photo of {label}.\",\n",
    "    \"an aerial view of {label}.\",\n",
    "    \"satellite image showing {label}.\",\n",
    "    \"a remote sensing image of {label}.\",\n",
    "    \"an overhead view of {label}.\",\n",
    "    \"a high-resolution satellite image of {label}.\",\n",
    "    \"remote sensing imagery showing {label}.\",\n",
    "    \"a Sentinel-2 style satellite image of {label}.\",\n",
    "]\n",
    "\n",
    "# Optional: label synonyms per EuroSAT class (extend/adjust as you like)\n",
    "USE_SYNONYMS = True\n",
    "LABEL_SYNONYMS = {\n",
    "    \"annual crop\": [\"annual crop\", \"farmland\", \"agricultural field\"],\n",
    "    \"forest\": [\"forest\", \"woodland\"],\n",
    "    \"highway\": [\"highway\", \"motorway\", \"freeway\"],\n",
    "    \"industrial\": [\"industrial area\", \"industrial zone\", \"factories\"],\n",
    "    \"pasture\": [\"pasture\", \"grassland\", \"meadow\"],\n",
    "    \"permanent crop\": [\"permanent crop\", \"orchard\", \"vineyard\"],\n",
    "    \"residential\": [\"residential area\", \"housing area\", \"suburban neighborhood\"],\n",
    "    \"river\": [\"river\", \"waterway\"],\n",
    "    \"sea lake\": [\"sea or lake\", \"body of water\", \"lake or sea\"],\n",
    "    \"herbaceous vegetation\": [\"herbaceous vegetation\", \"shrubs\", \"bushland\"],\n",
    "}\n",
    "\n",
    "# Results dir\n",
    "OUTDIR = Path(\"../results/prompt_exp\") / f\"{MODEL_NAME}_synonyms{int(USE_SYNONYMS)}_seed{SEED}\"\n",
    "OUTDIR.mkdir(parents=True, exist_ok=True)\n",
    "print(\"Device:\", DEVICE)\n",
    "print(\"Output:\", OUTDIR.resolve())"
   ]
  },
  {
   "cell_type": "code",
   "execution_count": 27,
   "id": "4a47f697",
   "metadata": {},
   "outputs": [
    {
     "name": "stdout",
     "output_type": "stream",
     "text": [
      "DatasetDict({\n",
      "    train: Dataset({\n",
      "        features: ['image', 'label'],\n",
      "        num_rows: 21600\n",
      "    })\n",
      "    val: Dataset({\n",
      "        features: ['image', 'label'],\n",
      "        num_rows: 5400\n",
      "    })\n",
      "})\n",
      "Classes: 10\n",
      "{0: 'AnnualCrop', 1: 'Forest', 2: 'HerbaceousVegetation', 3: 'Highway', 4: 'Industrial', 5: 'Pasture', 6: 'PermanentCrop', 7: 'Residential', 8: 'River', 9: 'SeaLake'}\n"
     ]
    }
   ],
   "source": [
    "ds_raw = load_dataset(\"nielsr/eurosat-demo\")\n",
    "ds_split = ds_raw[\"train\"].train_test_split(test_size=HOLDOUT_FRACTION, seed=SEED, stratify_by_column=\"label\")\n",
    "ds = DatasetDict({\"train\": ds_split[\"train\"], \"val\": ds_split[\"test\"]})\n",
    "print(ds)\n",
    "\n",
    "label_names = [n.replace(\"_\", \" \") for n in ds[\"train\"].features[\"label\"].names]\n",
    "num_classes = len(label_names)\n",
    "id2label = {i: n for i, n in enumerate(label_names)}\n",
    "label2id = {v: k for k, v in id2label.items()}\n",
    "print(\"Classes:\", num_classes)\n",
    "print(id2label)"
   ]
  },
  {
   "cell_type": "code",
   "execution_count": 28,
   "id": "22beac7a",
   "metadata": {},
   "outputs": [
    {
     "name": "stdout",
     "output_type": "stream",
     "text": [
      "Model ready: ViT-B-32 laion2b_s34b_b79k\n"
     ]
    }
   ],
   "source": [
    "model, _, preprocess = open_clip.create_model_and_transforms(\n",
    "    model_name=MODEL_NAME,\n",
    "    pretrained=PRETRAINED,\n",
    "    device=DEVICE\n",
    ")\n",
    "tokenizer = open_clip.get_tokenizer(MODEL_NAME)\n",
    "model.eval()\n",
    "\n",
    "# quick warmup (optional)\n",
    "with torch.no_grad():\n",
    "    sz = getattr(getattr(model, \"visual\", None), \"image_size\", 224)\n",
    "    if isinstance(sz, int): h = w = sz\n",
    "    else: h, w = int(sz[0]), int(sz[1])\n",
    "    _ = model.encode_image(torch.zeros(1,3,h,w, device=DEVICE))\n",
    "print(\"Model ready:\", MODEL_NAME, PRETRAINED)"
   ]
  },
  {
   "cell_type": "code",
   "execution_count": 29,
   "id": "2528b311",
   "metadata": {},
   "outputs": [],
   "source": [
    "class HFEuroSATDataset(Dataset):\n",
    "    def __init__(self, hf_ds, preprocess):\n",
    "        self.ds = hf_ds\n",
    "        self.preprocess = preprocess\n",
    "    def __len__(self): return len(self.ds)\n",
    "    def __getitem__(self, idx):\n",
    "        ex = self.ds[int(idx)]\n",
    "        x = self.preprocess(ex[\"image\"])\n",
    "        y = ex[\"label\"]\n",
    "        return x, y\n",
    "\n",
    "def collate_tensor_batch(batch):\n",
    "    xs = torch.stack([b[0] for b in batch], dim=0)\n",
    "    ys = torch.tensor([b[1] for b in batch], dtype=torch.long)\n",
    "    return xs, ys\n",
    "\n",
    "def val_loader(batch_size=128):\n",
    "    return DataLoader(HFEuroSATDataset(ds[\"val\"], preprocess),\n",
    "                      batch_size=batch_size, shuffle=False, collate_fn=collate_tensor_batch)"
   ]
  },
  {
   "cell_type": "code",
   "execution_count": 30,
   "id": "f1638248",
   "metadata": {},
   "outputs": [],
   "source": [
    "def build_prompt_texts(template: str, labels: List[str]) -> List[str]:\n",
    "    return [template.format(label=l) for l in labels]\n",
    "\n",
    "@torch.no_grad()\n",
    "def encode_texts(texts: List[str]) -> torch.Tensor:\n",
    "    tok = tokenizer(texts).to(DEVICE)\n",
    "    with torch.amp.autocast('cuda'):\n",
    "        tf = model.encode_text(tok)    # [N, D]\n",
    "    tf = tf / tf.norm(dim=-1, keepdim=True)\n",
    "    return tf\n",
    "\n",
    "@torch.no_grad()\n",
    "def text_features_for_template(template: str) -> torch.Tensor:\n",
    "    \"\"\"Return [C, D] text features for the class list under this template.\n",
    "       If USE_SYNONYMS: average synonyms per class first.\"\"\"\n",
    "    if not USE_SYNONYMS:\n",
    "        texts = build_prompt_texts(template, [id2label[i] for i in range(num_classes)])\n",
    "        return encode_texts(texts)  # [C, D]\n",
    "\n",
    "    # synonyms path\n",
    "    feats = []\n",
    "    for i in range(num_classes):\n",
    "        label = id2label[i]\n",
    "        syns = LABEL_SYNONYMS.get(label, [label])\n",
    "        texts = build_prompt_texts(template, syns)\n",
    "        tf = encode_texts(texts)           # [S, D]\n",
    "        feats.append(tf.mean(dim=0, keepdim=True))\n",
    "    return torch.cat(feats, dim=0)         # [C, D]"
   ]
  },
  {
   "cell_type": "code",
   "execution_count": 31,
   "id": "19cad916",
   "metadata": {},
   "outputs": [],
   "source": [
    "from tqdm import tqdm\n",
    "\n",
    "@torch.no_grad()\n",
    "def evaluate_prompts(templates: List[str], batch_size=128):\n",
    "    # Precompute text feats per template\n",
    "    t_by_tpl = [text_features_for_template(tpl) for tpl in templates]  # list of [C,D]\n",
    "    loader = val_loader(batch_size=batch_size)\n",
    "\n",
    "    y_true, y_pred = [], []\n",
    "    logits_all = []\n",
    "\n",
    "    for xb, yb in tqdm(loader, total=math.ceil(len(ds[\"val\"])/batch_size), desc=\"Eval\"):\n",
    "        xb = xb.to(DEVICE)\n",
    "        with torch.amp.autocast('cuda'):\n",
    "            f = model.encode_image(xb)     # [B,D]\n",
    "        f = f / f.norm(dim=-1, keepdim=True)\n",
    "\n",
    "        # logits per template, then average (ensemble)\n",
    "        logits_tpl = [(f @ t.t()) for t in t_by_tpl]  # list of [B,C]\n",
    "        logits = torch.stack(logits_tpl, dim=0).mean(dim=0)\n",
    "\n",
    "        y_true.extend(yb.tolist())\n",
    "        y_pred.extend(logits.argmax(dim=-1).tolist())\n",
    "        logits_all.append(logits.cpu())\n",
    "\n",
    "    y_true = np.array(y_true)\n",
    "    y_pred = np.array(y_pred)\n",
    "    logits_all = torch.cat(logits_all, dim=0).numpy()\n",
    "\n",
    "    top1 = (y_true == y_pred).mean().item()\n",
    "    top5 = top_k_accuracy_score(y_true, logits_all, k=5)\n",
    "    cm   = confusion_matrix(y_true, y_pred, labels=list(range(num_classes))).tolist()\n",
    "    return {\"top1\": float(top1), \"top5\": float(top5), \"cm\": cm}"
   ]
  },
  {
   "cell_type": "code",
   "execution_count": 32,
   "id": "b582c025",
   "metadata": {},
   "outputs": [
    {
     "name": "stdout",
     "output_type": "stream",
     "text": [
      "\n",
      "Single: a satellite photo of {label}.\n"
     ]
    },
    {
     "name": "stderr",
     "output_type": "stream",
     "text": [
      "Eval: 100%|██████████| 43/43 [00:07<00:00,  6.08it/s]\n"
     ]
    },
    {
     "name": "stdout",
     "output_type": "stream",
     "text": [
      "Top-1: 41.19% | Top-5: 86.50%\n",
      "\n",
      "Single: an aerial view of {label}.\n"
     ]
    },
    {
     "name": "stderr",
     "output_type": "stream",
     "text": [
      "Eval: 100%|██████████| 43/43 [00:07<00:00,  5.74it/s]\n"
     ]
    },
    {
     "name": "stdout",
     "output_type": "stream",
     "text": [
      "Top-1: 44.50% | Top-5: 92.85%\n",
      "\n",
      "Single: satellite image showing {label}.\n"
     ]
    },
    {
     "name": "stderr",
     "output_type": "stream",
     "text": [
      "Eval: 100%|██████████| 43/43 [00:07<00:00,  5.99it/s]\n"
     ]
    },
    {
     "name": "stdout",
     "output_type": "stream",
     "text": [
      "Top-1: 40.31% | Top-5: 87.24%\n",
      "\n",
      "Single: a remote sensing image of {label}.\n"
     ]
    },
    {
     "name": "stderr",
     "output_type": "stream",
     "text": [
      "Eval: 100%|██████████| 43/43 [00:07<00:00,  5.88it/s]\n"
     ]
    },
    {
     "name": "stdout",
     "output_type": "stream",
     "text": [
      "Top-1: 40.48% | Top-5: 81.33%\n",
      "\n",
      "Single: an overhead view of {label}.\n"
     ]
    },
    {
     "name": "stderr",
     "output_type": "stream",
     "text": [
      "Eval: 100%|██████████| 43/43 [00:07<00:00,  5.99it/s]\n"
     ]
    },
    {
     "name": "stdout",
     "output_type": "stream",
     "text": [
      "Top-1: 36.07% | Top-5: 91.11%\n",
      "\n",
      "Single: a high-resolution satellite image of {label}.\n"
     ]
    },
    {
     "name": "stderr",
     "output_type": "stream",
     "text": [
      "Eval: 100%|██████████| 43/43 [00:07<00:00,  5.93it/s]\n"
     ]
    },
    {
     "name": "stdout",
     "output_type": "stream",
     "text": [
      "Top-1: 42.52% | Top-5: 85.11%\n",
      "\n",
      "Single: remote sensing imagery showing {label}.\n"
     ]
    },
    {
     "name": "stderr",
     "output_type": "stream",
     "text": [
      "Eval: 100%|██████████| 43/43 [00:06<00:00,  6.27it/s]\n"
     ]
    },
    {
     "name": "stdout",
     "output_type": "stream",
     "text": [
      "Top-1: 41.04% | Top-5: 79.50%\n",
      "\n",
      "Single: a Sentinel-2 style satellite image of {label}.\n"
     ]
    },
    {
     "name": "stderr",
     "output_type": "stream",
     "text": [
      "Eval: 100%|██████████| 43/43 [00:07<00:00,  5.96it/s]\n"
     ]
    },
    {
     "name": "stdout",
     "output_type": "stream",
     "text": [
      "Top-1: 42.70% | Top-5: 83.93%\n",
      "\n",
      "Ensemble: average over ALL templates\n"
     ]
    },
    {
     "name": "stderr",
     "output_type": "stream",
     "text": [
      "Eval: 100%|██████████| 43/43 [00:06<00:00,  6.20it/s]"
     ]
    },
    {
     "name": "stdout",
     "output_type": "stream",
     "text": [
      "Top-1: 41.93% | Top-5: 88.94%\n",
      "Saved: /home/oshri/code/clip-rs-fewshot/results/prompt_exp/ViT-B-32_synonyms1_seed42/week3_prompt_results.json\n"
     ]
    },
    {
     "name": "stderr",
     "output_type": "stream",
     "text": [
      "\n"
     ]
    }
   ],
   "source": [
    "results = {}\n",
    "\n",
    "# single templates\n",
    "for tpl in PROMPT_TEMPLATES:\n",
    "    print(\"\\nSingle:\", tpl)\n",
    "    res = evaluate_prompts([tpl], batch_size=128)\n",
    "    results[f\"single::{tpl}\"] = res\n",
    "    print(f\"Top-1: {res['top1']*100:.2f}% | Top-5: {res['top5']*100:.2f}%\")\n",
    "\n",
    "# full ensemble\n",
    "print(\"\\nEnsemble: average over ALL templates\")\n",
    "res_ens = evaluate_prompts(PROMPT_TEMPLATES, batch_size=128)\n",
    "results[\"ensemble::all\"] = res_ens\n",
    "print(f\"Top-1: {res_ens['top1']*100:.2f}% | Top-5: {res_ens['top5']*100:.2f}%\")\n",
    "\n",
    "# save\n",
    "with open(OUTDIR / \"week3_prompt_results.json\", \"w\") as f:\n",
    "    json.dump({\"config\":{\n",
    "        \"model_name\": MODEL_NAME, \"pretrained\": PRETRAINED,\n",
    "        \"use_synonyms\": USE_SYNONYMS, \"prompts\": PROMPT_TEMPLATES,\n",
    "        \"seed\": SEED\n",
    "    }, \"results\": results}, f, indent=2)\n",
    "print(\"Saved:\", (OUTDIR / \"week3_prompt_results.json\").resolve())\n"
   ]
  },
  {
   "cell_type": "code",
   "execution_count": 33,
   "id": "5ec55707",
   "metadata": {},
   "outputs": [
    {
     "data": {
      "text/html": [
       "<style type=\"text/css\">\n",
       "</style>\n",
       "<table id=\"T_4c03f\">\n",
       "  <thead>\n",
       "    <tr>\n",
       "      <th class=\"blank level0\" >&nbsp;</th>\n",
       "      <th id=\"T_4c03f_level0_col0\" class=\"col_heading level0 col0\" >setting</th>\n",
       "      <th id=\"T_4c03f_level0_col1\" class=\"col_heading level0 col1\" >top1</th>\n",
       "      <th id=\"T_4c03f_level0_col2\" class=\"col_heading level0 col2\" >top5</th>\n",
       "    </tr>\n",
       "  </thead>\n",
       "  <tbody>\n",
       "    <tr>\n",
       "      <th id=\"T_4c03f_level0_row0\" class=\"row_heading level0 row0\" >1</th>\n",
       "      <td id=\"T_4c03f_row0_col0\" class=\"data row0 col0\" >single::an aerial view of {label}.</td>\n",
       "      <td id=\"T_4c03f_row0_col1\" class=\"data row0 col1\" >0.445</td>\n",
       "      <td id=\"T_4c03f_row0_col2\" class=\"data row0 col2\" >0.929</td>\n",
       "    </tr>\n",
       "    <tr>\n",
       "      <th id=\"T_4c03f_level0_row1\" class=\"row_heading level0 row1\" >7</th>\n",
       "      <td id=\"T_4c03f_row1_col0\" class=\"data row1 col0\" >single::a Sentinel-2 style satellite image of {label}.</td>\n",
       "      <td id=\"T_4c03f_row1_col1\" class=\"data row1 col1\" >0.427</td>\n",
       "      <td id=\"T_4c03f_row1_col2\" class=\"data row1 col2\" >0.839</td>\n",
       "    </tr>\n",
       "    <tr>\n",
       "      <th id=\"T_4c03f_level0_row2\" class=\"row_heading level0 row2\" >5</th>\n",
       "      <td id=\"T_4c03f_row2_col0\" class=\"data row2 col0\" >single::a high-resolution satellite image of {label}.</td>\n",
       "      <td id=\"T_4c03f_row2_col1\" class=\"data row2 col1\" >0.425</td>\n",
       "      <td id=\"T_4c03f_row2_col2\" class=\"data row2 col2\" >0.851</td>\n",
       "    </tr>\n",
       "    <tr>\n",
       "      <th id=\"T_4c03f_level0_row3\" class=\"row_heading level0 row3\" >8</th>\n",
       "      <td id=\"T_4c03f_row3_col0\" class=\"data row3 col0\" >ensemble::all</td>\n",
       "      <td id=\"T_4c03f_row3_col1\" class=\"data row3 col1\" >0.419</td>\n",
       "      <td id=\"T_4c03f_row3_col2\" class=\"data row3 col2\" >0.889</td>\n",
       "    </tr>\n",
       "    <tr>\n",
       "      <th id=\"T_4c03f_level0_row4\" class=\"row_heading level0 row4\" >0</th>\n",
       "      <td id=\"T_4c03f_row4_col0\" class=\"data row4 col0\" >single::a satellite photo of {label}.</td>\n",
       "      <td id=\"T_4c03f_row4_col1\" class=\"data row4 col1\" >0.412</td>\n",
       "      <td id=\"T_4c03f_row4_col2\" class=\"data row4 col2\" >0.865</td>\n",
       "    </tr>\n",
       "    <tr>\n",
       "      <th id=\"T_4c03f_level0_row5\" class=\"row_heading level0 row5\" >6</th>\n",
       "      <td id=\"T_4c03f_row5_col0\" class=\"data row5 col0\" >single::remote sensing imagery showing {label}.</td>\n",
       "      <td id=\"T_4c03f_row5_col1\" class=\"data row5 col1\" >0.410</td>\n",
       "      <td id=\"T_4c03f_row5_col2\" class=\"data row5 col2\" >0.795</td>\n",
       "    </tr>\n",
       "    <tr>\n",
       "      <th id=\"T_4c03f_level0_row6\" class=\"row_heading level0 row6\" >3</th>\n",
       "      <td id=\"T_4c03f_row6_col0\" class=\"data row6 col0\" >single::a remote sensing image of {label}.</td>\n",
       "      <td id=\"T_4c03f_row6_col1\" class=\"data row6 col1\" >0.405</td>\n",
       "      <td id=\"T_4c03f_row6_col2\" class=\"data row6 col2\" >0.813</td>\n",
       "    </tr>\n",
       "    <tr>\n",
       "      <th id=\"T_4c03f_level0_row7\" class=\"row_heading level0 row7\" >2</th>\n",
       "      <td id=\"T_4c03f_row7_col0\" class=\"data row7 col0\" >single::satellite image showing {label}.</td>\n",
       "      <td id=\"T_4c03f_row7_col1\" class=\"data row7 col1\" >0.403</td>\n",
       "      <td id=\"T_4c03f_row7_col2\" class=\"data row7 col2\" >0.872</td>\n",
       "    </tr>\n",
       "    <tr>\n",
       "      <th id=\"T_4c03f_level0_row8\" class=\"row_heading level0 row8\" >4</th>\n",
       "      <td id=\"T_4c03f_row8_col0\" class=\"data row8 col0\" >single::an overhead view of {label}.</td>\n",
       "      <td id=\"T_4c03f_row8_col1\" class=\"data row8 col1\" >0.361</td>\n",
       "      <td id=\"T_4c03f_row8_col2\" class=\"data row8 col2\" >0.911</td>\n",
       "    </tr>\n",
       "  </tbody>\n",
       "</table>\n"
      ],
      "text/plain": [
       "<pandas.io.formats.style.Styler at 0x7a6e8055e5a0>"
      ]
     },
     "metadata": {},
     "output_type": "display_data"
    },
    {
     "name": "stdout",
     "output_type": "stream",
     "text": [
      "Best setting: single::an aerial view of {label}. | Top-1 = 44.50% | Top-5 = 92.85%\n"
     ]
    }
   ],
   "source": [
    "import pandas as pd\n",
    "\n",
    "rows = []\n",
    "for k, v in results.items():\n",
    "    rows.append({\"setting\": k, \"top1\": v[\"top1\"], \"top5\": v[\"top5\"]})\n",
    "df = pd.DataFrame(rows).sort_values(\"top1\", ascending=False)\n",
    "display(df.style.format({\"top1\":\"{:.3f}\", \"top5\":\"{:.3f}\"}))\n",
    "\n",
    "best_row = df.iloc[0]\n",
    "best_name = best_row[\"setting\"]\n",
    "print(\"Best setting:\", best_name, \"| Top-1 = {:.2f}% | Top-5 = {:.2f}%\".format(best_row[\"top1\"]*100, best_row[\"top5\"]*100))\n",
    "df.to_csv(OUTDIR / \"week3_prompt_summary.csv\", index=False)"
   ]
  },
  {
   "cell_type": "code",
   "execution_count": 39,
   "id": "a7090cbc",
   "metadata": {},
   "outputs": [
    {
     "data": {
      "image/png": "[encoded data removed]",
      "text/plain": [
       "<Figure size 1000x600 with 2 Axes>"
      ]
     },
     "metadata": {},
     "output_type": "display_data"
    }
   ],
   "source": [
    "# Compute per-class accuracy for each prompt to visualize sensitivity\n",
    "def per_class_acc(cm):\n",
    "    cm = np.array(cm)\n",
    "    return np.diag(cm) / cm.sum(axis=1).clip(min=1)\n",
    "\n",
    "labels = [id2label[i] for i in range(num_classes)]\n",
    "prompt_keys = [k for k in results.keys() if k.startswith(\"single::\")]\n",
    "prompt_keys.append(\"ensemble::all\")\n",
    "\n",
    "heat = []\n",
    "for key in prompt_keys:\n",
    "    accs = per_class_acc(results[key][\"cm\"])\n",
    "    heat.append(accs)\n",
    "heat = np.stack(heat, axis=0)  # [P, C]\n",
    "\n",
    "fig = plt.figure(figsize=(max(10, len(labels)*0.4), max(6, len(prompt_keys)*0.35)))\n",
    "plt.imshow(heat, aspect=\"auto\", interpolation=\"nearest\")\n",
    "plt.colorbar(label=\"Per-class accuracy\")\n",
    "plt.yticks(ticks=np.arange(len(prompt_keys)), labels=prompt_keys)\n",
    "plt.xticks(ticks=np.arange(num_classes), labels=labels, rotation=75, ha=\"right\")\n",
    "plt.title(\"Per-class Accuracy vs. Prompt\")\n",
    "plt.tight_layout()\n",
    "plt.show()\n",
    "fig.savefig(OUTDIR / \"per_class_heatmap.png\", bbox_inches='tight', dpi=200)"
   ]
  },
  {
   "cell_type": "markdown",
   "id": "7ee1f291",
   "metadata": {},
   "source": [
    "## What to look for\n",
    "- Which **single prompt** works best overall?\n",
    "- Does the **ensemble** help (often +1–4 pts)?\n",
    "- Which **classes** are most sensitive to phrasing? (See the heatmap.)\n",
    "\n",
    "## Quick extra experiments (optional)\n",
    "- Try **without** synonyms vs. **with** synonyms and compare.\n",
    "- Add a small set of **class-specific prompts** (e.g., “a vineyard” for permanent crop).\n",
    "- Evaluate with a **larger model** (ViT-L/14) for a higher ceiling.\n",
    "\n",
    "## Artifacts\n",
    "- `results/prompt_exp/week3_prompt_results.json`\n",
    "- `results/prompt_exp/week3_prompt_summary.csv`\n",
    "- `results/prompt_exp/per_class_heatmap.png`"
   ]
  }
 ],
 "metadata": {
  "kernelspec": {
   "display_name": "clip312",
   "language": "python",
   "name": "python3"
  },
  "language_info": {
   "codemirror_mode": {
    "name": "ipython",
    "version": 3
   },
   "file_extension": ".py",
   "mimetype": "text/x-python",
   "name": "python",
   "nbconvert_exporter": "python",
   "pygments_lexer": "ipython3",
   "version": "3.12.12"
  }
 },
 "nbformat": 4,
 "nbformat_minor": 5
}
