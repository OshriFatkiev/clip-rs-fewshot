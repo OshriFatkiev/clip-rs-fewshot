{
 "cells": [
  {
   "cell_type": "markdown",
   "id": "6fd89a96",
   "metadata": {},
   "source": [
    "# Week 2 — Few-Shot Learning on EuroSAT (HF Datasets) — Linear Probe + Partial Unfreeze\n",
    "\n",
    "**Goal:** Improve over Week-1 zero-shot by training on a small **k-shot** subset.\n",
    "\n",
    "**Plan**\n",
    "1. Load **EuroSAT (RGB)** from **Hugging Face Datasets**, build stratified train/val split.\n",
    "2. Create **k-shot per class** train subset (k = 5 or 10).\n",
    "3. Train a **Linear Probe** on frozen OpenCLIP features.\n",
    "4. (Optional) **Partial Unfreeze** the last ViT block + head.\n",
    "5. Report Top-1 / Top-5 + confusion matrix; save to `./results/fewshot/`.\n",
    "\n",
    "> Tip: Start with **ViT-B/32** for speed; switch to **ViT-L/14** if you want higher accuracy.\n"
   ]
  },
  {
   "cell_type": "code",
   "execution_count": 30,
   "id": "1c24eef2",
   "metadata": {},
   "outputs": [],
   "source": [
    "# If needed in a fresh environment:\n",
    "# %pip -q install \"datasets>=2.19.0\" \"pyarrow>=14\" open_clip_torch scikit-learn matplotlib tqdm pillow"
   ]
  },
  {
   "cell_type": "code",
   "execution_count": 31,
   "id": "f2a89d72",
   "metadata": {},
   "outputs": [
    {
     "name": "stdout",
     "output_type": "stream",
     "text": [
      "Device: cuda\n",
      "Output: /home/oshri/code/clip-rs-fewshot/results/fewshot/ViT-L-14_k5_seed42\n"
     ]
    }
   ],
   "source": [
    "import os, math, json, time, random\n",
    "from pathlib import Path\n",
    "from typing import List, Dict, Tuple\n",
    "from collections import defaultdict\n",
    "\n",
    "import numpy as np\n",
    "import torch\n",
    "import torch.nn as nn\n",
    "import torch.nn.functional as F\n",
    "from torch.utils.data import Dataset, DataLoader, TensorDataset\n",
    "\n",
    "import matplotlib.pyplot as plt\n",
    "from tqdm import tqdm\n",
    "from sklearn.metrics import confusion_matrix, top_k_accuracy_score, accuracy_score\n",
    "\n",
    "import open_clip\n",
    "from datasets import load_dataset, DatasetDict\n",
    "\n",
    "# Repro & device\n",
    "SEED = 42\n",
    "random.seed(SEED); np.random.seed(SEED); torch.manual_seed(SEED)\n",
    "DEVICE = \"cuda\" if torch.cuda.is_available() else \"cpu\"\n",
    "print(\"Device:\", DEVICE)\n",
    "\n",
    "# OpenCLIP config (swap to larger models later for higher accuracy)\n",
    "MODEL_NAME = \"ViT-L-14\"            # e.g., \"ViT-B-32\"\n",
    "PRETRAINED = \"laion2b_s32b_b82k\"\n",
    "# PRETRAINED = \"laion2b_s34b_b79k\"   # check open_clip.list_pretrained()[MODEL_NAME] for options\n",
    "\n",
    "# Data & split config\n",
    "HOLDOUT_FRACTION = 0.2   # 80/20 stratified split from the single HF 'train' split\n",
    "K_SHOTS = 5              # set to 5 or 10\n",
    "BATCH_SIZE_TRAIN = 64\n",
    "BATCH_SIZE_EVAL = 128\n",
    "\n",
    "# Training config — linear probe (frozen encoder)\n",
    "EPOCHS_PROBE = 12\n",
    "LR_PROBE = 1e-2\n",
    "WD_PROBE = 1e-4\n",
    "\n",
    "# Training config — partial unfreeze (last ViT block + head)\n",
    "DO_PARTIAL_UNFREEZE = True\n",
    "EPOCHS_PARTIAL = 5\n",
    "LR_HEAD = 5e-3          # head LR\n",
    "LR_LAST_BLOCK = 5e-5    # last block LR\n",
    "WD_PARTIAL = 1e-4\n",
    "\n",
    "# Output dir\n",
    "OUTDIR = Path(\"../results/fewshot\") / f\"{MODEL_NAME}_k{K_SHOTS}_seed{SEED}\"\n",
    "OUTDIR.mkdir(parents=True, exist_ok=True)\n",
    "print(\"Output:\", OUTDIR.resolve())\n"
   ]
  },
  {
   "cell_type": "code",
   "execution_count": 32,
   "id": "60da4f81",
   "metadata": {},
   "outputs": [
    {
     "name": "stdout",
     "output_type": "stream",
     "text": [
      "DatasetDict({\n",
      "    train: Dataset({\n",
      "        features: ['image', 'label'],\n",
      "        num_rows: 27000\n",
      "    })\n",
      "})\n",
      "DatasetDict({\n",
      "    train: Dataset({\n",
      "        features: ['image', 'label'],\n",
      "        num_rows: 21600\n",
      "    })\n",
      "    val: Dataset({\n",
      "        features: ['image', 'label'],\n",
      "        num_rows: 5400\n",
      "    })\n",
      "})\n",
      "Classes: 10\n",
      "{0: 'AnnualCrop', 1: 'Forest', 2: 'HerbaceousVegetation', 3: 'Highway', 4: 'Industrial', 5: 'Pasture', 6: 'PermanentCrop', 7: 'Residential', 8: 'River', 9: 'SeaLake'}\n"
     ]
    }
   ],
   "source": [
    "# Load EuroSAT (RGB) — HF version typically provides a single 'train' split\n",
    "ds_raw = load_dataset(\"nielsr/eurosat-demo\")\n",
    "print(ds_raw)\n",
    "\n",
    "# Stratified 80/20 split using the label column\n",
    "ds = ds_raw[\"train\"].train_test_split(test_size=HOLDOUT_FRACTION, seed=SEED, stratify_by_column=\"label\")\n",
    "ds = DatasetDict({\"train\": ds[\"train\"], \"val\": ds[\"test\"]})\n",
    "print(ds)\n",
    "\n",
    "# Class names & maps\n",
    "label_names = [n.replace(\"_\", \" \") for n in ds[\"train\"].features[\"label\"].names]\n",
    "num_classes = len(label_names)\n",
    "id2label = {i: n for i, n in enumerate(label_names)}\n",
    "label2id = {v: k for k, v in id2label.items()}\n",
    "print(\"Classes:\", num_classes)\n",
    "print(id2label)"
   ]
  },
  {
   "cell_type": "code",
   "execution_count": 33,
   "id": "d166410f",
   "metadata": {},
   "outputs": [
    {
     "name": "stdout",
     "output_type": "stream",
     "text": [
      "Model ready: ViT-L-14 laion2b_s32b_b82k | input (224, 224)\n"
     ]
    }
   ],
   "source": [
    "model, _, preprocess = open_clip.create_model_and_transforms(\n",
    "    model_name=MODEL_NAME,\n",
    "    pretrained=PRETRAINED,\n",
    "    device=DEVICE\n",
    ")\n",
    "tokenizer = open_clip.get_tokenizer(MODEL_NAME)\n",
    "model.eval()\n",
    "\n",
    "# (optional) quick warmup\n",
    "def infer_image_hw(preprocess, model, fallback=224):\n",
    "    sz = getattr(getattr(model, \"visual\", None), \"image_size\", None)\n",
    "    if isinstance(sz, (tuple, list)) and len(sz) == 2: return int(sz[0]), int(sz[1])\n",
    "    if isinstance(sz, int): return int(sz), int(sz)\n",
    "    for t in getattr(preprocess, \"transforms\", []):\n",
    "        s = getattr(t, \"size\", None)\n",
    "        if s is not None:\n",
    "            if isinstance(s, (tuple, list)): return int(s[0]), int(s[1])\n",
    "            if isinstance(s, int): return int(s), int(s)\n",
    "    return fallback, fallback\n",
    "\n",
    "with torch.no_grad():\n",
    "    h, w = infer_image_hw(preprocess, model, 224)\n",
    "    _ = model.encode_image(torch.zeros(1,3,h,w, device=DEVICE))\n",
    "print(\"Model ready:\", MODEL_NAME, PRETRAINED, \"| input\", (h, w))"
   ]
  },
  {
   "cell_type": "code",
   "execution_count": 34,
   "id": "997a469f",
   "metadata": {},
   "outputs": [],
   "source": [
    "class HFEuroSATDataset(Dataset):\n",
    "    \"\"\"Wraps an HF dataset split, applying OpenCLIP preprocess at __getitem__.\"\"\"\n",
    "    def __init__(self, hf_ds, preprocess):\n",
    "        self.ds = hf_ds\n",
    "        self.preprocess = preprocess\n",
    "\n",
    "    def __len__(self):\n",
    "        return len(self.ds)\n",
    "\n",
    "    def __getitem__(self, idx):\n",
    "        ex = self.ds[int(idx)]\n",
    "        img = ex[\"image\"]           # PIL.Image\n",
    "        y   = ex[\"label\"]           # int\n",
    "        x   = self.preprocess(img)  # Tensor [3,H,W]\n",
    "        return x, y\n",
    "\n",
    "def collate_tensor_batch(batch):\n",
    "    xs = torch.stack([b[0] for b in batch], dim=0)\n",
    "    ys = torch.tensor([b[1] for b in batch], dtype=torch.long)\n",
    "    return xs, ys\n",
    "\n",
    "def iterate_hf_for_features(hf_ds, batch_size=128):\n",
    "    \"\"\"Iterator that yields (Tensor[B,3,H,W], Tensor[B]) for feature extraction.\"\"\"\n",
    "    wrapper = HFEuroSATDataset(hf_ds, preprocess)\n",
    "    loader = DataLoader(wrapper, batch_size=batch_size, shuffle=False, collate_fn=collate_tensor_batch)\n",
    "    for xb, yb in loader:\n",
    "        yield xb, yb\n"
   ]
  },
  {
   "cell_type": "code",
   "execution_count": 35,
   "id": "b44e6c7f",
   "metadata": {},
   "outputs": [
    {
     "name": "stdout",
     "output_type": "stream",
     "text": [
      "Few-shot train: 50 samples (5 per class)\n",
      "Val size: 5400\n"
     ]
    }
   ],
   "source": [
    "def make_k_shot_indices(hf_train, k: int, seed: int = SEED):\n",
    "    rng = random.Random(seed)\n",
    "    labels = hf_train[\"label\"]  # list of ints\n",
    "    per_class_idxs = defaultdict(list)\n",
    "    for i, y in enumerate(labels):\n",
    "        per_class_idxs[y].append(i)\n",
    "\n",
    "    chosen = []\n",
    "    for y, pool in per_class_idxs.items():\n",
    "        pool = pool[:]\n",
    "        rng.shuffle(pool)\n",
    "        take = min(k, len(pool))\n",
    "        chosen += pool[:take]\n",
    "    chosen = sorted(chosen)\n",
    "    return chosen\n",
    "\n",
    "fewshot_idx = make_k_shot_indices(ds[\"train\"], K_SHOTS, SEED)\n",
    "fewshot_train = ds[\"train\"].select(fewshot_idx)\n",
    "\n",
    "print(f\"Few-shot train: {len(fewshot_train)} samples ({K_SHOTS} per class)\")\n",
    "print(\"Val size:\", len(ds[\"val\"]))\n"
   ]
  },
  {
   "cell_type": "code",
   "execution_count": 36,
   "id": "8d528c83",
   "metadata": {},
   "outputs": [
    {
     "name": "stderr",
     "output_type": "stream",
     "text": [
      "Extract feats: 100%|██████████| 1/1 [00:00<00:00,  4.07it/s]\n",
      "Extract feats: 100%|██████████| 43/43 [00:23<00:00,  1.86it/s]"
     ]
    },
    {
     "name": "stdout",
     "output_type": "stream",
     "text": [
      "Feature dim: 768 | Train feats: torch.Size([50, 768]) | Val feats: torch.Size([5400, 768])\n"
     ]
    },
    {
     "name": "stderr",
     "output_type": "stream",
     "text": [
      "\n"
     ]
    }
   ],
   "source": [
    "@torch.no_grad()\n",
    "def extract_features(hf_split, batch_size=128, device=DEVICE):\n",
    "    feats, labels = [], []\n",
    "    for xb, yb in tqdm(iterate_hf_for_features(hf_split, batch_size), total=math.ceil(len(hf_split)/batch_size), desc=\"Extract feats\"):\n",
    "        xb = xb.to(device)\n",
    "        with torch.amp.autocast('cuda'):\n",
    "            f = model.encode_image(xb)              # [B, D]\n",
    "        f = f / f.norm(dim=-1, keepdim=True)\n",
    "        feats.append(f.cpu())\n",
    "        labels.append(yb)\n",
    "    X = torch.cat(feats, dim=0)   # [N, D]\n",
    "    y = torch.cat(labels, dim=0)  # [N]\n",
    "    return X, y\n",
    "\n",
    "X_train, y_train = extract_features(fewshot_train, batch_size=BATCH_SIZE_EVAL)\n",
    "X_val,   y_val   = extract_features(ds[\"val\"],    batch_size=BATCH_SIZE_EVAL)\n",
    "\n",
    "feat_dim = X_train.shape[1]\n",
    "print(\"Feature dim:\", feat_dim, \"| Train feats:\", X_train.shape, \"| Val feats:\", X_val.shape)"
   ]
  },
  {
   "cell_type": "code",
   "execution_count": 37,
   "id": "90f99699",
   "metadata": {},
   "outputs": [
    {
     "name": "stdout",
     "output_type": "stream",
     "text": [
      "[Probe] Epoch 01 | loss 2.3008 | val@1 15.70% | val@5 56.20%\n",
      "[Probe] Epoch 02 | loss 2.3006 | val@1 15.85% | val@5 56.80%\n",
      "[Probe] Epoch 03 | loss 2.3003 | val@1 16.07% | val@5 57.63%\n",
      "[Probe] Epoch 04 | loss 2.2999 | val@1 16.30% | val@5 58.39%\n",
      "[Probe] Epoch 05 | loss 2.2995 | val@1 16.50% | val@5 59.59%\n",
      "[Probe] Epoch 06 | loss 2.2990 | val@1 16.85% | val@5 60.74%\n",
      "[Probe] Epoch 07 | loss 2.2985 | val@1 17.06% | val@5 61.65%\n",
      "[Probe] Epoch 08 | loss 2.2981 | val@1 17.26% | val@5 62.65%\n",
      "[Probe] Epoch 09 | loss 2.2977 | val@1 17.37% | val@5 63.19%\n",
      "[Probe] Epoch 10 | loss 2.2975 | val@1 17.48% | val@5 63.54%\n",
      "[Probe] Epoch 11 | loss 2.2974 | val@1 17.54% | val@5 63.67%\n",
      "[Probe] Epoch 12 | loss 2.2973 | val@1 17.54% | val@5 63.70%\n",
      "Linear probe — Top-1: 17.54% | Top-5: 63.67%\n"
     ]
    }
   ],
   "source": [
    "class LinearProbe(nn.Module):\n",
    "    def __init__(self, in_dim, num_classes):\n",
    "        super().__init__()\n",
    "        self.head = nn.Linear(in_dim, num_classes)  # bias=True is fine\n",
    "\n",
    "    def forward(self, x):\n",
    "        return self.head(x)\n",
    "\n",
    "def topk_metrics(logits: torch.Tensor, y_true: torch.Tensor, ks=(1,5)):\n",
    "    metrics = {}\n",
    "    y_np = y_true.cpu().numpy()\n",
    "    logits_np = logits.float().cpu().numpy()   # ensure float32 for sklearn\n",
    "    for k in ks:\n",
    "        metrics[f\"top{k}\"] = float(top_k_accuracy_score(y_np, logits_np, k=k))\n",
    "    preds = logits.argmax(dim=-1).cpu().numpy()\n",
    "    metrics[\"cm\"] = confusion_matrix(y_np, preds, labels=list(range(num_classes))).tolist()\n",
    "    return metrics\n",
    "\n",
    "def train_linear_probe(Xtr, ytr, Xva, yva, epochs=EPOCHS_PROBE, lr=LR_PROBE, wd=WD_PROBE, bs=256):\n",
    "    # ---- Safety: enforce float32 on stored features (autocast may leave fp16)\n",
    "    Xtr = Xtr.float()\n",
    "    Xva = Xva.float()\n",
    "\n",
    "    head = LinearProbe(Xtr.shape[1], num_classes).to(DEVICE)\n",
    "    opt = torch.optim.SGD(head.parameters(), lr=lr, momentum=0.9, weight_decay=wd)\n",
    "    sched = torch.optim.lr_scheduler.CosineAnnealingLR(opt, T_max=epochs)\n",
    "\n",
    "    train_loader = DataLoader(TensorDataset(Xtr, ytr), batch_size=bs, shuffle=True)\n",
    "    val_loader   = DataLoader(TensorDataset(Xva, yva), batch_size=bs, shuffle=False)\n",
    "\n",
    "    best = {\"acc\": -1.0, \"state\": None}\n",
    "    history = []\n",
    "\n",
    "    for ep in range(1, epochs+1):\n",
    "        head.train()\n",
    "        running = 0.0\n",
    "        for xb, yb in train_loader:\n",
    "            # to device + dtype (float32)\n",
    "            xb = xb.to(DEVICE, dtype=torch.float32)\n",
    "            yb = yb.to(DEVICE)\n",
    "            opt.zero_grad(set_to_none=True)\n",
    "            logits = head(xb)\n",
    "            loss = F.cross_entropy(logits, yb)\n",
    "            loss.backward()\n",
    "            opt.step()\n",
    "            running += loss.item() * xb.size(0)\n",
    "        sched.step()\n",
    "        train_loss = running / len(train_loader.dataset)\n",
    "\n",
    "        # Eval\n",
    "        head.eval()\n",
    "        with torch.no_grad():\n",
    "            logits_all, ys_all = [], []\n",
    "            for xb, yb in val_loader:\n",
    "                lg = head(xb.to(DEVICE, dtype=torch.float32)).cpu()\n",
    "                logits_all.append(lg)\n",
    "                ys_all.append(yb)\n",
    "            logits_all = torch.cat(logits_all, dim=0)\n",
    "            ys_all = torch.cat(ys_all, dim=0)\n",
    "\n",
    "        m = topk_metrics(logits_all, ys_all, ks=(1,5))\n",
    "        acc1, acc5 = m[\"top1\"], m[\"top5\"]\n",
    "        history.append({\"epoch\": ep, \"train_loss\": train_loss, \"val_top1\": acc1, \"val_top5\": acc5})\n",
    "        if acc1 > best[\"acc\"]:\n",
    "            best = {\"acc\": acc1, \"state\": {k: v.cpu() for k, v in head.state_dict().items()}}\n",
    "        print(f\"[Probe] Epoch {ep:02d} | loss {train_loss:.4f} | val@1 {acc1*100:.2f}% | val@5 {acc5*100:.2f}%\")\n",
    "\n",
    "    head.load_state_dict({k: v.to(DEVICE) for k, v in best[\"state\"].items()})\n",
    "    return head, history\n",
    "\n",
    "# Train + evaluate\n",
    "probe, probe_hist = train_linear_probe(X_train, y_train, X_val, y_val)\n",
    "with torch.no_grad():\n",
    "    logits_val = probe(X_val.to(DEVICE, dtype=torch.float32)).cpu()\n",
    "metrics_probe = topk_metrics(logits_val, y_val, ks=(1,5))\n",
    "print(\"Linear probe — Top-1: {:.2f}% | Top-5: {:.2f}%\".format(metrics_probe[\"top1\"]*100, metrics_probe[\"top5\"]*100))\n"
   ]
  },
  {
   "cell_type": "code",
   "execution_count": 38,
   "id": "27798ccd",
   "metadata": {},
   "outputs": [
    {
     "name": "stderr",
     "output_type": "stream",
     "text": [
      "                                                                  \r"
     ]
    },
    {
     "name": "stdout",
     "output_type": "stream",
     "text": [
      "[Partial] Epoch 01 | loss 2.3053 | val@1 40.24% | val@5 93.09%\n"
     ]
    },
    {
     "name": "stderr",
     "output_type": "stream",
     "text": [
      "                                                                  \r"
     ]
    },
    {
     "name": "stdout",
     "output_type": "stream",
     "text": [
      "[Partial] Epoch 02 | loss 2.2579 | val@1 66.87% | val@5 97.87%\n"
     ]
    },
    {
     "name": "stderr",
     "output_type": "stream",
     "text": [
      "                                                                  \r"
     ]
    },
    {
     "name": "stdout",
     "output_type": "stream",
     "text": [
      "[Partial] Epoch 03 | loss 2.2132 | val@1 72.96% | val@5 98.00%\n"
     ]
    },
    {
     "name": "stderr",
     "output_type": "stream",
     "text": [
      "                                                                  \r"
     ]
    },
    {
     "name": "stdout",
     "output_type": "stream",
     "text": [
      "[Partial] Epoch 04 | loss 2.1777 | val@1 74.61% | val@5 98.00%\n"
     ]
    },
    {
     "name": "stderr",
     "output_type": "stream",
     "text": [
      "                                                                  \r"
     ]
    },
    {
     "name": "stdout",
     "output_type": "stream",
     "text": [
      "[Partial] Epoch 05 | loss 2.1575 | val@1 75.13% | val@5 98.00%\n",
      "Partial unfreeze — Top-1: 75.13% | Top-5: 98.00%\n"
     ]
    }
   ],
   "source": [
    "def get_last_vit_block(model):\n",
    "    vit = getattr(model, \"visual\", None)\n",
    "    if vit is None or not hasattr(vit, \"transformer\"):\n",
    "        return None\n",
    "    blocks = vit.transformer.resblocks\n",
    "    return blocks[-1] if len(blocks) > 0 else None\n",
    "\n",
    "class CLIPWithHead(nn.Module):\n",
    "    def __init__(self, clip_model, num_classes, h=224, w=224):\n",
    "        super().__init__()\n",
    "        self.clip = clip_model\n",
    "        with torch.no_grad():\n",
    "            f = self.clip.encode_image(torch.zeros(1,3,h,w, device=next(self.clip.parameters()).device))\n",
    "        self.embed_dim = f.shape[-1]\n",
    "        self.head = nn.Linear(self.embed_dim, num_classes)\n",
    "\n",
    "    def forward(self, images):\n",
    "        f = self.clip.encode_image(images)\n",
    "        f = f / f.norm(dim=-1, keepdim=True)\n",
    "        return self.head(f)\n",
    "\n",
    "def train_partial_unfreeze(hf_train, hf_val, epochs=EPOCHS_PARTIAL,\n",
    "                           lr_head=LR_HEAD, lr_last=LR_LAST_BLOCK, wd=WD_PARTIAL, bs=BATCH_SIZE_TRAIN):\n",
    "    # Build torch datasets\n",
    "    train_ds = HFEuroSATDataset(hf_train, preprocess)\n",
    "    val_ds   = HFEuroSATDataset(hf_val,   preprocess)\n",
    "\n",
    "    # Wrapper\n",
    "    h, w = infer_image_hw(preprocess, model, 224)\n",
    "    wrapper = CLIPWithHead(model, num_classes, h, w).to(DEVICE)\n",
    "\n",
    "    # Freeze everything, then enable head + last block\n",
    "    for p in wrapper.parameters(): p.requires_grad = False\n",
    "    for p in wrapper.head.parameters(): p.requires_grad = True\n",
    "    last_block = get_last_vit_block(wrapper.clip)\n",
    "    if last_block is not None:\n",
    "        for p in last_block.parameters(): p.requires_grad = True\n",
    "\n",
    "    # Loaders\n",
    "    train_loader = DataLoader(train_ds, batch_size=bs, shuffle=True,  collate_fn=collate_tensor_batch)\n",
    "    val_loader   = DataLoader(val_ds,   batch_size=bs, shuffle=False, collate_fn=collate_tensor_batch)\n",
    "\n",
    "    # Optimizer with param groups\n",
    "    params = [{\"params\": wrapper.head.parameters(), \"lr\": lr_head, \"weight_decay\": wd}]\n",
    "    if last_block is not None:\n",
    "        params.append({\"params\": last_block.parameters(), \"lr\": lr_last, \"weight_decay\": wd})\n",
    "    opt = torch.optim.AdamW(params)\n",
    "    sched = torch.optim.lr_scheduler.CosineAnnealingLR(opt, T_max=epochs)\n",
    "\n",
    "    best = {\"acc\": -1.0, \"state\": None}\n",
    "    history = []\n",
    "\n",
    "    for ep in range(1, epochs+1):\n",
    "        wrapper.train()\n",
    "        running = 0.0\n",
    "        for xb, yb in tqdm(train_loader, desc=f\"[Partial] Train ep{ep}\", leave=False):\n",
    "            xb = xb.to(DEVICE); yb = yb.to(DEVICE)\n",
    "            opt.zero_grad(set_to_none=True)\n",
    "            with torch.amp.autocast('cuda'):\n",
    "                logits = wrapper(xb)\n",
    "                loss = F.cross_entropy(logits, yb)\n",
    "            loss.backward()\n",
    "            opt.step()\n",
    "            running += loss.item() * xb.size(0)\n",
    "        sched.step()\n",
    "        train_loss = running / len(train_loader.dataset)\n",
    "\n",
    "        # Eval\n",
    "        wrapper.eval()\n",
    "        with torch.no_grad():\n",
    "            logits_all, ys_all = [], []\n",
    "            for xb, yb in val_loader:\n",
    "                lg = wrapper(xb.to(DEVICE)).cpu()\n",
    "                logits_all.append(lg); ys_all.append(yb)\n",
    "            logits_all = torch.cat(logits_all, dim=0)\n",
    "            ys_all = torch.cat(ys_all, dim=0)\n",
    "            m = topk_metrics(logits_all, ys_all, ks=(1,5))\n",
    "            acc1, acc5 = m[\"top1\"], m[\"top5\"]\n",
    "\n",
    "        history.append({\"epoch\": ep, \"train_loss\": train_loss, \"val_top1\": acc1, \"val_top5\": acc5})\n",
    "        if acc1 > best[\"acc\"]:\n",
    "            best = {\"acc\": acc1, \"state\": {k:v.cpu() for k,v in wrapper.state_dict().items()}}\n",
    "        print(f\"[Partial] Epoch {ep:02d} | loss {train_loss:.4f} | val@1 {acc1*100:.2f}% | val@5 {acc5*100:.2f}%\")\n",
    "\n",
    "    wrapper.load_state_dict({k: v.to(DEVICE) for k,v in best[\"state\"].items()})\n",
    "    return wrapper, history\n",
    "\n",
    "partial_model, partial_hist, m_partial = (None, None, None)\n",
    "if DO_PARTIAL_UNFREEZE:\n",
    "    partial_model, partial_hist = train_partial_unfreeze(fewshot_train, ds[\"val\"])\n",
    "    # Final metrics\n",
    "    with torch.no_grad():\n",
    "        val_loader = DataLoader(HFEuroSATDataset(ds[\"val\"], preprocess), batch_size=BATCH_SIZE_EVAL, shuffle=False, collate_fn=collate_tensor_batch)\n",
    "        logits_all, ys_all = [], []\n",
    "        for xb, yb in val_loader:\n",
    "            lg = partial_model(xb.to(DEVICE)).cpu()\n",
    "            logits_all.append(lg); ys_all.append(yb)\n",
    "        logits_all = torch.cat(logits_all, dim=0)\n",
    "        ys_all = torch.cat(ys_all, dim=0)\n",
    "        m_partial = topk_metrics(logits_all, ys_all, ks=(1,5))\n",
    "    print(\"Partial unfreeze — Top-1: {:.2f}% | Top-5: {:.2f}%\".format(m_partial[\"top1\"]*100, m_partial[\"top5\"]*100))\n"
   ]
  },
  {
   "cell_type": "code",
   "execution_count": 39,
   "id": "6b4812b2",
   "metadata": {},
   "outputs": [
    {
     "name": "stdout",
     "output_type": "stream",
     "text": [
      "\n",
      "Week 2 Results (Val)\n",
      "Linear Probe     : Top-1 = 17.54% | Top-5 = 63.67%\n",
      "Partial Unfreeze : Top-1 = 75.13% | Top-5 = 98.00%\n"
     ]
    },
    {
     "data": {
      "image/png": "[encoded data removed]",
      "text/plain": [
       "<Figure size 800x800 with 2 Axes>"
      ]
     },
     "metadata": {},
     "output_type": "display_data"
    },
    {
     "name": "stdout",
     "output_type": "stream",
     "text": [
      "Saved artifacts in: /home/oshri/code/clip-rs-fewshot/results/fewshot/ViT-L-14_k5_seed42\n"
     ]
    }
   ],
   "source": [
    "def save_json(obj, path):\n",
    "    Path(path).parent.mkdir(parents=True, exist_ok=True)\n",
    "    with open(path, \"w\") as f: json.dump(obj, f, indent=2)\n",
    "\n",
    "summary = {\"config\": {\n",
    "    \"backend\": \"HF Datasets\",\n",
    "    \"model_name\": MODEL_NAME,\n",
    "    \"pretrained\": PRETRAINED,\n",
    "    \"k_shots\": K_SHOTS,\n",
    "    \"epochs_probe\": EPOCHS_PROBE,\n",
    "    \"epochs_partial\": EPOCHS_PARTIAL if DO_PARTIAL_UNFREEZE else 0,\n",
    "    \"seed\": SEED,\n",
    "}}\n",
    "\n",
    "summary[\"linear_probe\"] = {\n",
    "    \"top1\": float(metrics_probe[\"top1\"]),\n",
    "    \"top5\": float(metrics_probe[\"top5\"]),\n",
    "    \"confusion_matrix\": metrics_probe[\"cm\"],\n",
    "}\n",
    "\n",
    "if DO_PARTIAL_UNFREEZE and m_partial is not None:\n",
    "    summary[\"partial_unfreeze\"] = {\n",
    "        \"top1\": float(m_partial[\"top1\"]),\n",
    "        \"top5\": float(m_partial[\"top5\"]),\n",
    "        \"confusion_matrix\": m_partial[\"cm\"],\n",
    "    }\n",
    "\n",
    "save_json(summary, OUTDIR / \"week2_fewshot_summary.json\")\n",
    "\n",
    "# Print table\n",
    "print(\"\\nWeek 2 Results (Val)\")\n",
    "print(\"Linear Probe     : Top-1 = {:.2f}% | Top-5 = {:.2f}%\".format(summary[\"linear_probe\"][\"top1\"]*100, summary[\"linear_probe\"][\"top5\"]*100))\n",
    "if \"partial_unfreeze\" in summary:\n",
    "    print(\"Partial Unfreeze : Top-1 = {:.2f}% | Top-5 = {:.2f}%\".format(summary[\"partial_unfreeze\"][\"top1\"]*100, summary[\"partial_unfreeze\"][\"top5\"]*100))\n",
    "\n",
    "# Plot confusion matrix for best method\n",
    "best_name = \"Linear Probe\"\n",
    "best_cm = np.array(summary[\"linear_probe\"][\"confusion_matrix\"])\n",
    "if \"partial_unfreeze\" in summary and summary[\"partial_unfreeze\"][\"top1\"] >= summary[\"linear_probe\"][\"top1\"]:\n",
    "    best_name = \"Partial Unfreeze\"\n",
    "    best_cm = np.array(summary[\"partial_unfreeze\"][\"confusion_matrix\"])\n",
    "\n",
    "fig = plt.figure(figsize=(8,8))\n",
    "plt.imshow(best_cm, interpolation='nearest')\n",
    "plt.title(f\"Confusion Matrix — {best_name}\")\n",
    "plt.colorbar()\n",
    "tick_marks = np.arange(num_classes)\n",
    "plt.xticks(tick_marks, [id2label[i] for i in range(num_classes)], rotation=90)\n",
    "plt.yticks(tick_marks, [id2label[i] for i in range(num_classes)])\n",
    "plt.tight_layout()\n",
    "plt.xlabel('Predicted'); plt.ylabel('True')\n",
    "plt.show()\n",
    "fig.savefig(OUTDIR / f\"cm_{best_name.replace(' ','_').lower()}.png\", bbox_inches='tight', dpi=200)\n",
    "\n",
    "# Save training histories\n",
    "with open(OUTDIR / \"hist_linear_probe.json\", \"w\") as f:\n",
    "    json.dump(probe_hist, f, indent=2)\n",
    "if partial_hist is not None:\n",
    "    with open(OUTDIR / \"hist_partial_unfreeze.json\", \"w\") as f:\n",
    "        json.dump(partial_hist, f, indent=2)\n",
    "\n",
    "print(\"Saved artifacts in:\", OUTDIR.resolve())\n"
   ]
  },
  {
   "cell_type": "markdown",
   "id": "ed84ada7",
   "metadata": {},
   "source": [
    "## Notes & Expected Ranges\n",
    "\n",
    "- **Linear probe (k=5)** on EuroSAT usually adds **+5–10 pts** over zero-shot for ViT-B/32; more for ViT-L/14.\n",
    "- **Partial unfreeze** (last block + head, ~5 epochs) can add another **+2–6 pts** (watch LR ratios).\n",
    "\n",
    "### Tips\n",
    "- For bigger gains quickly:\n",
    "  - Switch to **ViT-L/14**: `MODEL_NAME=\"ViT-L-14\"; PRETRAINED=\"laion2b_s32b_b82k\"`.\n",
    "  - Use **K_SHOTS = 10**.\n",
    "- Keep eval preprocessing **clean** (resize/center-crop/normalize).\n",
    "- Use fixed **seed** and **stratified split** for reproducibility.\n",
    "\n",
    "## Next (Week 3)\n",
    "- Systematic prompt ablations & (optional) learnable prompts (CoOp-style).\n",
    "- Report: zero-shot vs. linear probe vs. partial unfreeze in one table + per-class plots."
   ]
  }
 ],
 "metadata": {
  "kernelspec": {
   "display_name": "clip312",
   "language": "python",
   "name": "python3"
  },
  "language_info": {
   "codemirror_mode": {
    "name": "ipython",
    "version": 3
   },
   "file_extension": ".py",
   "mimetype": "text/x-python",
   "name": "python",
   "nbconvert_exporter": "python",
   "pygments_lexer": "ipython3",
   "version": "3.12.12"
  }
 },
 "nbformat": 4,
 "nbformat_minor": 5
}
