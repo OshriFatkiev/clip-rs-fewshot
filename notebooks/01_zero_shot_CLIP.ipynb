{
 "cells": [
  {
   "cell_type": "markdown",
   "id": "5a95344b",
   "metadata": {},
   "source": [
    "# Week 1 — Zero-Shot CLIP on EuroSAT (Baseline & Prompt Variants)\n",
    "\n",
    "**Goal:** Reproduce a clean zero-shot baseline with CLIP/OpenCLIP on the EuroSAT (RGB) dataset, then test prompt variants and (optionally) a prompt ensemble.  \n",
    "**Outputs:** Top-1/Top-5 accuracy, per-class accuracy, confusion matrix, and a CSV of results.\n",
    "\n",
    "> Tip: Run this in **Google Colab** or on a local machine with a GPU. CPU works too (slower).\n",
    "\n",
    "---\n",
    "\n",
    "## Setup\n",
    "\n",
    "**What this notebook does**\n",
    "1. Installs dependencies (`open_clip_torch`, `datasets`, `torchvision`, etc.).  \n",
    "2. Downloads **EuroSAT (RGB)** via Hugging Face Datasets.  \n",
    "3. Loads an OpenCLIP model from the Hugging Face Hub (default: `ViT-B-32`).  \n",
    "4. Evaluates zero-shot accuracy with multiple prompt templates.  \n",
    "5. Logs metrics, plots a confusion matrix, and saves a CSV of results to `./results/`.\n",
    "\n",
    "**You can customize**\n",
    "- `MODEL_NAME` and `PRETRAINED` to pick larger models (e.g., ViT-L/14).  \n",
    "- `PROMPT_TEMPLATES` to try your own prompts.  \n",
    "- `BATCH_SIZE` for your hardware.  \n",
    "- `SPLIT` (e.g., `'train'` vs `'test'` if you create your own split).\n",
    "\n",
    "---"
   ]
  },
  {
   "cell_type": "code",
   "execution_count": 46,
   "id": "92b213c6",
   "metadata": {},
   "outputs": [],
   "source": [
    "# If running in Colab, uncomment the next line to ensure a fresh install:\n",
    "# !pip -q install --upgrade pip\n",
    "\n",
    "# Core deps (adjust torch/torchvision to match your CUDA if installing locally)\n",
    "# In Colab, this should \"just work\". On local machines, ensure torch matches your CUDA version.\n",
    "!pip -q install open_clip_torch datasets torchvision pillow scikit-learn matplotlib tqdm\n"
   ]
  },
  {
   "cell_type": "code",
   "execution_count": 47,
   "id": "8cdccb0f",
   "metadata": {},
   "outputs": [
    {
     "name": "stdout",
     "output_type": "stream",
     "text": [
      "Device: cuda\n",
      "Model: ViT-L-14 | Pretrained: laion2b_s32b_b82k\n",
      "Results directory: /home/oshri/code/clip-rs-fewshot/results/zero_shot/ViT-L-14_laion2b_s32b_b82k_nielsr_eurosat-demo\n"
     ]
    }
   ],
   "source": [
    "import os, math, json, random, time\n",
    "from pathlib import Path\n",
    "from typing import List, Dict, Tuple\n",
    "\n",
    "import torch\n",
    "import torchvision.transforms as T\n",
    "from torchvision.transforms.functional import InterpolationMode\n",
    "from PIL import Image\n",
    "\n",
    "import open_clip\n",
    "from datasets import load_dataset, DatasetDict\n",
    "import numpy as np\n",
    "from sklearn.metrics import confusion_matrix, accuracy_score, top_k_accuracy_score\n",
    "import matplotlib.pyplot as plt\n",
    "from tqdm import tqdm\n",
    "\n",
    "# Reproducibility\n",
    "SEED = 42\n",
    "random.seed(SEED); np.random.seed(SEED); torch.manual_seed(SEED)\n",
    "\n",
    "# Device\n",
    "DEVICE = \"cuda\" if torch.cuda.is_available() else \"cpu\"\n",
    "print(\"Device:\", DEVICE)\n",
    "\n",
    "# Model config — change these to try other backbones/checkpoints\n",
    "# MODEL_NAME = \"ViT-B-32\"  # must be an architecture from open_clip.list_models()\n",
    "# PRETRAINED = \"openai\"  # or \"laion2b_s34b_b79k\"\n",
    "\n",
    "MODEL_NAME = \"ViT-L-14\"; PRETRAINED = \"laion2b_s32b_b82k\" # better model for EuroSAT\n",
    "\n",
    "# Data config\n",
    "DATASET_NAME = \"nielsr/eurosat-demo\"\n",
    "\n",
    "SPLIT = \"train\"            # EuroSAT has `train` only; we create a holdout below if desired\n",
    "HOLDOUT_FRACTION = 0.2     # We'll create a small validation set for quick iteration\n",
    "\n",
    "# Eval config\n",
    "BATCH_SIZE = 64\n",
    "NUM_WORKERS = 2  # has no effect here (datasets uses Python-level map), but kept for clarity\n",
    "\n",
    "# Prompt templates\n",
    "PROMPT_TEMPLATES = [\n",
    "    \"a satellite photo of {label}.\",\n",
    "    \"an aerial view of {label}.\",\n",
    "    \"a remote sensing image of {label}.\",\n",
    "    \"a high-resolution satellite image of {label}.\",\n",
    "    \"a Landsat-style satellite image of {label}.\",\n",
    "    \"a Sentinel-2 style satellite image of {label}.\",\n",
    "    \"overhead photo of {label}.\",\n",
    "    \"aerial photograph of {label}.\",\n",
    "]\n",
    "\n",
    "# Results dir\n",
    "RESULTS_DIR = Path(\"results/zero_shot\") / f\"{MODEL_NAME}_{PRETRAINED}_{DATASET_NAME.replace('/', '_')}\"\n",
    "RESULTS_DIR.mkdir(parents=True, exist_ok=True)\n",
    "\n",
    "print(\"Model:\", MODEL_NAME, \"| Pretrained:\", PRETRAINED)\n",
    "print(\"Results directory:\", RESULTS_DIR.resolve())\n"
   ]
  },
  {
   "cell_type": "code",
   "execution_count": 48,
   "id": "cd0b02bd",
   "metadata": {},
   "outputs": [
    {
     "name": "stdout",
     "output_type": "stream",
     "text": [
      "DatasetDict({\n",
      "    train: Dataset({\n",
      "        features: ['image', 'label'],\n",
      "        num_rows: 27000\n",
      "    })\n",
      "})\n",
      "DatasetDict({\n",
      "    train: Dataset({\n",
      "        features: ['image', 'label'],\n",
      "        num_rows: 21600\n",
      "    })\n",
      "    val: Dataset({\n",
      "        features: ['image', 'label'],\n",
      "        num_rows: 5400\n",
      "    })\n",
      "})\n",
      "Classes: 10\n",
      "{0: 'AnnualCrop', 1: 'Forest', 2: 'HerbaceousVegetation', 3: 'Highway', 4: 'Industrial', 5: 'Pasture', 6: 'PermanentCrop', 7: 'Residential', 8: 'River', 9: 'SeaLake'}\n"
     ]
    }
   ],
   "source": [
    "# Load EuroSAT (RGB)\n",
    "ds: DatasetDict = load_dataset(DATASET_NAME)  # only 'train' exists; we'll split\n",
    "print(ds)\n",
    "\n",
    "# Create a stratified train/val split for evaluation repeatability\n",
    "# This gives us: small \"val\" set to report metrics on, reproducibly.\n",
    "ds = ds[\"train\"].train_test_split(test_size=HOLDOUT_FRACTION, seed=SEED, stratify_by_column=\"label\")\n",
    "ds = DatasetDict({'train': ds['train'], 'val': ds['test']})\n",
    "print(ds)\n",
    "\n",
    "# Label names\n",
    "label_names = ds[\"train\"].features[\"label\"].names\n",
    "num_classes = len(label_names)\n",
    "id2label = {i: n.replace(\"_\", \" \") for i, n in enumerate(label_names)}\n",
    "label2id = {v: k for k, v in id2label.items()}\n",
    "\n",
    "print(\"Classes:\", num_classes)\n",
    "print(id2label)\n"
   ]
  },
  {
   "cell_type": "code",
   "execution_count": 49,
   "id": "4c6153a0",
   "metadata": {},
   "outputs": [],
   "source": [
    "# open_clip.list_models()"
   ]
  },
  {
   "cell_type": "code",
   "execution_count": 50,
   "id": "a17f2364",
   "metadata": {},
   "outputs": [
    {
     "name": "stdout",
     "output_type": "stream",
     "text": [
      "Compose(\n",
      "    Resize(size=224, interpolation=bicubic, max_size=None, antialias=True)\n",
      "    CenterCrop(size=(224, 224))\n",
      "    <function _convert_to_rgb at 0x7ff3c94e0040>\n",
      "    ToTensor()\n",
      "    Normalize(mean=(0.5, 0.5, 0.5), std=(0.5, 0.5, 0.5))\n",
      ")\n"
     ]
    }
   ],
   "source": [
    "# Create model + preprocess from OpenCLIP\n",
    "model, _, preprocess = open_clip.create_model_and_transforms(\n",
    "    MODEL_NAME,\n",
    "    pretrained=PRETRAINED,\n",
    "    device=DEVICE\n",
    ")\n",
    "tokenizer = open_clip.get_tokenizer(MODEL_NAME)\n",
    "\n",
    "# We'll use the provided `preprocess` for images. For text, we create tokenized prompts.\n",
    "# Show preprocess pipeline for transparency\n",
    "print(preprocess)\n",
    "model.eval()\n",
    "\n",
    "# warmup (optional)\n",
    "with torch.no_grad():\n",
    "    sz = getattr(getattr(model, \"visual\", None), \"image_size\", 224)\n",
    "    if isinstance(sz, (tuple, list)):\n",
    "        h, w = int(sz[0]), int(sz[1])\n",
    "    else:\n",
    "        h = w = int(sz)\n",
    "    dummy = torch.zeros(1, 3, h, w, device=DEVICE)\n",
    "    _ = model.encode_image(dummy)\n"
   ]
  },
  {
   "cell_type": "code",
   "execution_count": 51,
   "id": "894a820f",
   "metadata": {},
   "outputs": [
    {
     "name": "stdout",
     "output_type": "stream",
     "text": [
      "Prepared tokenized prompts for 8 templates.\n"
     ]
    }
   ],
   "source": [
    "def build_text_tokens_for_template(template: str, classnames: List[str]) -> torch.Tensor:\n",
    "    prompts = [template.format(label=cn) for cn in classnames]\n",
    "    tok = tokenizer(prompts)\n",
    "    return tok\n",
    "\n",
    "# Cache tokenized prompts for all templates to avoid recompute\n",
    "token_cache: Dict[str, torch.Tensor] = {}\n",
    "for tmpl in PROMPT_TEMPLATES:\n",
    "    token_cache[tmpl] = build_text_tokens_for_template(tmpl, [id2label[i] for i in range(num_classes)])\n",
    "print(\"Prepared tokenized prompts for\", len(PROMPT_TEMPLATES), \"templates.\")\n"
   ]
  },
  {
   "cell_type": "code",
   "execution_count": 52,
   "id": "9bfcf816",
   "metadata": {},
   "outputs": [],
   "source": [
    "# The HF EuroSAT samples store PIL images in 'image' column and label indices in 'label'\n",
    "def collate_batch(batch):\n",
    "    images = [preprocess(x[\"image\"]) for x in batch]\n",
    "    labels = [x[\"label\"] for x in batch]\n",
    "    images = torch.stack(images, dim=0)\n",
    "    labels = torch.tensor(labels, dtype=torch.long)\n",
    "    return images, labels\n",
    "\n",
    "def iterate_dataset(dset, batch_size=64):\n",
    "    batch = []\n",
    "    for ex in dset:\n",
    "        batch.append(ex)\n",
    "        if len(batch) == batch_size:\n",
    "            yield collate_batch(batch)\n",
    "            batch = []\n",
    "    if batch:\n",
    "        yield collate_batch(batch)\n"
   ]
  },
  {
   "cell_type": "code",
   "execution_count": null,
   "id": "ef388316",
   "metadata": {},
   "outputs": [],
   "source": [
    "@torch.no_grad()\n",
    "def evaluate_zero_shot(dset, templates: List[str]):\n",
    "    y_true = []\n",
    "    y_pred = []\n",
    "    y_logits = []\n",
    "    top5_correct = 0\n",
    "    n_total = 0\n",
    "\n",
    "    # Precompute text features per template\n",
    "    text_features_by_template = {}\n",
    "    for tmpl in templates:\n",
    "        tok = token_cache[tmpl].to(DEVICE)\n",
    "        with torch.amp.autocast('cuda'):\n",
    "            txt_feats = model.encode_text(tok)\n",
    "        txt_feats = txt_feats / txt_feats.norm(dim=-1, keepdim=True)\n",
    "        text_features_by_template[tmpl] = txt_feats\n",
    "\n",
    "    for images, labels in tqdm(iterate_dataset(dset, BATCH_SIZE), total=math.ceil(len(dset)/BATCH_SIZE)):\n",
    "        images = images.to(DEVICE)\n",
    "        labels = labels.to(DEVICE)\n",
    "        with torch.amp.autocast('cuda'):\n",
    "            img_feats = model.encode_image(images)\n",
    "        img_feats = img_feats / img_feats.norm(dim=-1, keepdim=True)\n",
    "\n",
    "        # For each template: compute logits, keep separately\n",
    "        logits_per_template = []\n",
    "        for tmpl in templates:\n",
    "            txt_feats = text_features_by_template[tmpl]\n",
    "            logits = img_feats @ txt_feats.t()\n",
    "            logits_per_template.append(logits)\n",
    "\n",
    "        # Also compute ensemble by averaging logits across templates\n",
    "        ensemble_logits = torch.stack(logits_per_template, dim=0).mean(dim=0)\n",
    "\n",
    "        # Choose which set of logits you want to evaluate. We'll evaluate all (each template + ensemble).\n",
    "        # For return, we'll keep the ensemble as \"final\", but we'll compute per-template metrics separately below.\n",
    "        # First, compute top-1 predictions for ensemble:\n",
    "        preds = ensemble_logits.argmax(dim=-1)\n",
    "        y_true.extend(labels.tolist())\n",
    "        y_pred.extend(preds.tolist())\n",
    "        y_logits.append(ensemble_logits.detach().cpu())\n",
    "\n",
    "        # Top-5 accuracy (ensemble)\n",
    "        top5 = ensemble_logits.topk(5, dim=-1).indices\n",
    "        top5_correct += (top5 == labels.unsqueeze(1)).any(dim=1).sum().item()\n",
    "        n_total += labels.size(0)\n",
    "\n",
    "    y_true = np.array(y_true)\n",
    "    y_pred = np.array(y_pred)\n",
    "    y_logits = torch.cat(y_logits, dim=0).numpy()\n",
    "\n",
    "    acc_top1 = accuracy_score(y_true, y_pred)\n",
    "    acc_top5 = top_k_accuracy_score(y_true, y_logits, k=5)\n",
    "\n",
    "    # Compute confusion matrix\n",
    "    cm = confusion_matrix(y_true, y_pred, labels=list(range(num_classes)))\n",
    "\n",
    "    # Per-class accuracy\n",
    "    per_class = {}\n",
    "    for c in range(num_classes):\n",
    "        idx = (y_true == c)\n",
    "        per_class_acc = (y_pred[idx] == c).mean() if idx.any() else float('nan')\n",
    "        per_class[id2label[c]] = float(per_class_acc)\n",
    "\n",
    "    results = {\n",
    "        \"top1\": float(acc_top1),\n",
    "        \"top5\": float(acc_top5),\n",
    "        \"per_class\": per_class,\n",
    "        \"confusion_matrix\": cm.tolist(),\n",
    "    }\n",
    "    return results\n"
   ]
  },
  {
   "cell_type": "code",
   "execution_count": 54,
   "id": "f089b231",
   "metadata": {},
   "outputs": [
    {
     "name": "stdout",
     "output_type": "stream",
     "text": [
      "\n",
      "Evaluating template: a satellite photo of {label}.\n"
     ]
    },
    {
     "name": "stderr",
     "output_type": "stream",
     "text": [
      "100%|██████████| 85/85 [00:23<00:00,  3.69it/s]\n"
     ]
    },
    {
     "name": "stdout",
     "output_type": "stream",
     "text": [
      "Top-1: 53.81% | Top-5: 90.39%\n",
      "\n",
      "Evaluating template: an aerial view of {label}.\n"
     ]
    },
    {
     "name": "stderr",
     "output_type": "stream",
     "text": [
      "100%|██████████| 85/85 [00:23<00:00,  3.67it/s]\n"
     ]
    },
    {
     "name": "stdout",
     "output_type": "stream",
     "text": [
      "Top-1: 35.20% | Top-5: 89.19%\n",
      "\n",
      "Evaluating template: a remote sensing image of {label}.\n"
     ]
    },
    {
     "name": "stderr",
     "output_type": "stream",
     "text": [
      "100%|██████████| 85/85 [00:23<00:00,  3.62it/s]\n"
     ]
    },
    {
     "name": "stdout",
     "output_type": "stream",
     "text": [
      "Top-1: 45.98% | Top-5: 86.52%\n",
      "\n",
      "Evaluating template: a high-resolution satellite image of {label}.\n"
     ]
    },
    {
     "name": "stderr",
     "output_type": "stream",
     "text": [
      "100%|██████████| 85/85 [00:23<00:00,  3.64it/s]\n"
     ]
    },
    {
     "name": "stdout",
     "output_type": "stream",
     "text": [
      "Top-1: 53.96% | Top-5: 87.26%\n",
      "\n",
      "Evaluating template: a Landsat-style satellite image of {label}.\n"
     ]
    },
    {
     "name": "stderr",
     "output_type": "stream",
     "text": [
      "100%|██████████| 85/85 [00:23<00:00,  3.65it/s]\n"
     ]
    },
    {
     "name": "stdout",
     "output_type": "stream",
     "text": [
      "Top-1: 52.87% | Top-5: 84.93%\n",
      "\n",
      "Evaluating template: a Sentinel-2 style satellite image of {label}.\n"
     ]
    },
    {
     "name": "stderr",
     "output_type": "stream",
     "text": [
      "100%|██████████| 85/85 [00:23<00:00,  3.65it/s]\n"
     ]
    },
    {
     "name": "stdout",
     "output_type": "stream",
     "text": [
      "Top-1: 55.00% | Top-5: 85.81%\n",
      "\n",
      "Evaluating template: overhead photo of {label}.\n"
     ]
    },
    {
     "name": "stderr",
     "output_type": "stream",
     "text": [
      "100%|██████████| 85/85 [00:23<00:00,  3.66it/s]\n"
     ]
    },
    {
     "name": "stdout",
     "output_type": "stream",
     "text": [
      "Top-1: 23.96% | Top-5: 94.39%\n",
      "\n",
      "Evaluating template: aerial photograph of {label}.\n"
     ]
    },
    {
     "name": "stderr",
     "output_type": "stream",
     "text": [
      "100%|██████████| 85/85 [00:23<00:00,  3.64it/s]\n"
     ]
    },
    {
     "name": "stdout",
     "output_type": "stream",
     "text": [
      "Top-1: 44.15% | Top-5: 93.57%\n",
      "\n",
      "Evaluating ensemble (avg logits over all templates)\n"
     ]
    },
    {
     "name": "stderr",
     "output_type": "stream",
     "text": [
      "100%|██████████| 85/85 [00:23<00:00,  3.66it/s]"
     ]
    },
    {
     "name": "stdout",
     "output_type": "stream",
     "text": [
      "Ensemble Top-1: 50.85% | Top-5: 91.91%\n",
      "Saved: /home/oshri/code/clip-rs-fewshot/results/zero_shot/ViT-L-14_laion2b_s32b_b82k_nielsr_eurosat-demo/week1_zero_shot_results.json\n"
     ]
    },
    {
     "name": "stderr",
     "output_type": "stream",
     "text": [
      "\n"
     ]
    }
   ],
   "source": [
    "all_results = {}\n",
    "\n",
    "# Evaluate each template individually\n",
    "for tmpl in PROMPT_TEMPLATES:\n",
    "    print(\"\\nEvaluating template:\", tmpl)\n",
    "    res_single = evaluate_zero_shot(ds[\"val\"], [tmpl])\n",
    "    all_results[f\"single::{tmpl}\"] = res_single\n",
    "    print(f\"Top-1: {res_single['top1']*100:.2f}% | Top-5: {res_single['top5']*100:.2f}%\")\n",
    "\n",
    "# Evaluate ensemble (averaging logits across all templates)\n",
    "print(\"\\nEvaluating ensemble (avg logits over all templates)\")\n",
    "res_ens = evaluate_zero_shot(ds[\"val\"], PROMPT_TEMPLATES)\n",
    "all_results[\"ensemble::avg\"] = res_ens\n",
    "print(f\"Ensemble Top-1: {res_ens['top1']*100:.2f}% | Top-5: {res_ens['top5']*100:.2f}%\")\n",
    "\n",
    "# Save raw JSON\n",
    "with open(RESULTS_DIR / \"week1_zero_shot_results.json\", \"w\") as f:\n",
    "    json.dump(all_results, f, indent=2)\n",
    "print(\"Saved:\", (RESULTS_DIR / \"week1_zero_shot_results.json\").resolve())\n"
   ]
  },
  {
   "cell_type": "code",
   "execution_count": 55,
   "id": "3d2b8ae1",
   "metadata": {},
   "outputs": [
    {
     "data": {
      "text/html": [
       "<div>\n",
       "<style scoped>\n",
       "    .dataframe tbody tr th:only-of-type {\n",
       "        vertical-align: middle;\n",
       "    }\n",
       "\n",
       "    .dataframe tbody tr th {\n",
       "        vertical-align: top;\n",
       "    }\n",
       "\n",
       "    .dataframe thead th {\n",
       "        text-align: right;\n",
       "    }\n",
       "</style>\n",
       "<table border=\"1\" class=\"dataframe\">\n",
       "  <thead>\n",
       "    <tr style=\"text-align: right;\">\n",
       "      <th></th>\n",
       "      <th>setting</th>\n",
       "      <th>top1</th>\n",
       "      <th>top5</th>\n",
       "    </tr>\n",
       "  </thead>\n",
       "  <tbody>\n",
       "    <tr>\n",
       "      <th>5</th>\n",
       "      <td>single::a Sentinel-2 style satellite image of ...</td>\n",
       "      <td>0.550000</td>\n",
       "      <td>0.858148</td>\n",
       "    </tr>\n",
       "    <tr>\n",
       "      <th>3</th>\n",
       "      <td>single::a high-resolution satellite image of {...</td>\n",
       "      <td>0.539630</td>\n",
       "      <td>0.872593</td>\n",
       "    </tr>\n",
       "    <tr>\n",
       "      <th>0</th>\n",
       "      <td>single::a satellite photo of {label}.</td>\n",
       "      <td>0.538148</td>\n",
       "      <td>0.903889</td>\n",
       "    </tr>\n",
       "    <tr>\n",
       "      <th>4</th>\n",
       "      <td>single::a Landsat-style satellite image of {la...</td>\n",
       "      <td>0.528704</td>\n",
       "      <td>0.849259</td>\n",
       "    </tr>\n",
       "    <tr>\n",
       "      <th>8</th>\n",
       "      <td>ensemble::avg</td>\n",
       "      <td>0.508519</td>\n",
       "      <td>0.919074</td>\n",
       "    </tr>\n",
       "    <tr>\n",
       "      <th>2</th>\n",
       "      <td>single::a remote sensing image of {label}.</td>\n",
       "      <td>0.459815</td>\n",
       "      <td>0.865185</td>\n",
       "    </tr>\n",
       "    <tr>\n",
       "      <th>7</th>\n",
       "      <td>single::aerial photograph of {label}.</td>\n",
       "      <td>0.441481</td>\n",
       "      <td>0.935741</td>\n",
       "    </tr>\n",
       "    <tr>\n",
       "      <th>1</th>\n",
       "      <td>single::an aerial view of {label}.</td>\n",
       "      <td>0.352037</td>\n",
       "      <td>0.891852</td>\n",
       "    </tr>\n",
       "    <tr>\n",
       "      <th>6</th>\n",
       "      <td>single::overhead photo of {label}.</td>\n",
       "      <td>0.239630</td>\n",
       "      <td>0.943889</td>\n",
       "    </tr>\n",
       "  </tbody>\n",
       "</table>\n",
       "</div>"
      ],
      "text/plain": [
       "                                             setting      top1      top5\n",
       "5  single::a Sentinel-2 style satellite image of ...  0.550000  0.858148\n",
       "3  single::a high-resolution satellite image of {...  0.539630  0.872593\n",
       "0              single::a satellite photo of {label}.  0.538148  0.903889\n",
       "4  single::a Landsat-style satellite image of {la...  0.528704  0.849259\n",
       "8                                      ensemble::avg  0.508519  0.919074\n",
       "2         single::a remote sensing image of {label}.  0.459815  0.865185\n",
       "7              single::aerial photograph of {label}.  0.441481  0.935741\n",
       "1                 single::an aerial view of {label}.  0.352037  0.891852\n",
       "6                 single::overhead photo of {label}.  0.239630  0.943889"
      ]
     },
     "metadata": {},
     "output_type": "display_data"
    },
    {
     "name": "stdout",
     "output_type": "stream",
     "text": [
      "Saved: /home/oshri/code/clip-rs-fewshot/results/zero_shot/ViT-L-14_laion2b_s32b_b82k_nielsr_eurosat-demo/week1_zero_shot_summary.csv\n"
     ]
    }
   ],
   "source": [
    "import pandas as pd\n",
    "\n",
    "rows = []\n",
    "for key, res in all_results.items():\n",
    "    rows.append({\n",
    "        \"setting\": key,\n",
    "        \"top1\": res[\"top1\"],\n",
    "        \"top5\": res[\"top5\"],\n",
    "    })\n",
    "df = pd.DataFrame(rows).sort_values(\"top1\", ascending=False)\n",
    "display(df)\n",
    "\n",
    "csv_path = RESULTS_DIR / \"week1_zero_shot_summary.csv\"\n",
    "df.to_csv(csv_path, index=False)\n",
    "print(\"Saved:\", csv_path.resolve())\n"
   ]
  },
  {
   "cell_type": "code",
   "execution_count": 56,
   "id": "a5880069",
   "metadata": {},
   "outputs": [
    {
     "data": {
      "image/png": "[encoded data removed]",
      "text/plain": [
       "<Figure size 800x800 with 2 Axes>"
      ]
     },
     "metadata": {},
     "output_type": "display_data"
    },
    {
     "name": "stdout",
     "output_type": "stream",
     "text": [
      "Saved: /home/oshri/code/clip-rs-fewshot/results/zero_shot/ViT-L-14_laion2b_s32b_b82k_nielsr_eurosat-demo/confusion_matrix_ensemble.png\n"
     ]
    }
   ],
   "source": [
    "# Plot confusion matrix for the ensemble\n",
    "cm = np.array(all_results[\"ensemble::avg\"][\"confusion_matrix\"])\n",
    "fig = plt.figure(figsize=(8, 8))\n",
    "plt.imshow(cm, interpolation='nearest')\n",
    "plt.title(\"Confusion Matrix — Ensemble\")\n",
    "plt.colorbar()\n",
    "tick_marks = np.arange(num_classes)\n",
    "plt.xticks(tick_marks, [id2label[i] for i in range(num_classes)], rotation=90)\n",
    "plt.yticks(tick_marks, [id2label[i] for i in range(num_classes)])\n",
    "plt.tight_layout()\n",
    "plt.xlabel('Predicted label')\n",
    "plt.ylabel('True label')\n",
    "plt.show()\n",
    "fig_path = RESULTS_DIR / \"confusion_matrix_ensemble.png\"\n",
    "fig.savefig(fig_path, bbox_inches='tight', dpi=200)\n",
    "print(\"Saved:\", fig_path.resolve())\n"
   ]
  },
  {
   "cell_type": "code",
   "execution_count": 57,
   "id": "ab2a7f72",
   "metadata": {},
   "outputs": [
    {
     "data": {
      "image/png": "[encoded data removed]",
      "text/plain": [
       "<Figure size 1000x400 with 1 Axes>"
      ]
     },
     "metadata": {},
     "output_type": "display_data"
    },
    {
     "name": "stdout",
     "output_type": "stream",
     "text": [
      "Saved: /home/oshri/code/clip-rs-fewshot/results/zero_shot/ViT-L-14_laion2b_s32b_b82k_nielsr_eurosat-demo/per_class_accuracy_ensemble.png\n"
     ]
    }
   ],
   "source": [
    "per_class = all_results[\"ensemble::avg\"][\"per_class\"]\n",
    "labels = list(per_class.keys())\n",
    "values = [per_class[k] for k in labels]\n",
    "\n",
    "fig = plt.figure(figsize=(10, 4))\n",
    "plt.bar(labels, values)\n",
    "plt.xticks(rotation=60, ha='right')\n",
    "plt.ylabel(\"Accuracy\")\n",
    "plt.title(\"Per-Class Accuracy — Ensemble\")\n",
    "plt.tight_layout()\n",
    "plt.show()\n",
    "bar_path = RESULTS_DIR / \"per_class_accuracy_ensemble.png\"\n",
    "fig.savefig(bar_path, bbox_inches='tight', dpi=200)\n",
    "print(\"Saved:\", bar_path.resolve())\n"
   ]
  },
  {
   "cell_type": "code",
   "execution_count": 58,
   "id": "bf12f0fe",
   "metadata": {},
   "outputs": [
    {
     "name": "stdout",
     "output_type": "stream",
     "text": [
      "Saved: /home/oshri/code/clip-rs-fewshot/results/zero_shot/ViT-L-14_laion2b_s32b_b82k_nielsr_eurosat-demo/metadata.json\n"
     ]
    },
    {
     "data": {
      "text/plain": [
       "{'seed': 42,\n",
       " 'device': 'cuda',\n",
       " 'model_name': 'ViT-L-14',\n",
       " 'pretrained': 'laion2b_s32b_b82k',\n",
       " 'dataset': {'name': 'nielsr/eurosat-demo'},\n",
       " 'split': 'train',\n",
       " 'holdout_fraction': 0.2,\n",
       " 'batch_size': 64,\n",
       " 'num_workers': 2,\n",
       " 'prompt_templates': ['a satellite photo of {label}.',\n",
       "  'an aerial view of {label}.',\n",
       "  'a remote sensing image of {label}.',\n",
       "  'a high-resolution satellite image of {label}.',\n",
       "  'a Landsat-style satellite image of {label}.',\n",
       "  'a Sentinel-2 style satellite image of {label}.',\n",
       "  'overhead photo of {label}.',\n",
       "  'aerial photograph of {label}.'],\n",
       " 'timestamp': '2025-10-19 08:07:29'}"
      ]
     },
     "execution_count": 58,
     "metadata": {},
     "output_type": "execute_result"
    }
   ],
   "source": [
    "meta = {\n",
    "    \"seed\": SEED,\n",
    "    \"device\": DEVICE,\n",
    "    \"model_name\": MODEL_NAME,\n",
    "    \"pretrained\": PRETRAINED,\n",
    "    \"dataset\": {\"name\": DATASET_NAME},\n",
    "    \"split\": SPLIT,\n",
    "    \"holdout_fraction\": HOLDOUT_FRACTION,\n",
    "    \"batch_size\": BATCH_SIZE,\n",
    "    \"num_workers\": NUM_WORKERS,\n",
    "    \"prompt_templates\": PROMPT_TEMPLATES,\n",
    "    \"timestamp\": time.strftime(\"%Y-%m-%d %H:%M:%S\", time.localtime())\n",
    "}\n",
    "with open(RESULTS_DIR / \"metadata.json\", \"w\") as f:\n",
    "    json.dump(meta, f, indent=2)\n",
    "print(\"Saved:\", (RESULTS_DIR / \"metadata.json\").resolve())\n",
    "meta\n"
   ]
  },
  {
   "cell_type": "markdown",
   "id": "4b9d97d4",
   "metadata": {},
   "source": [
    "## Notes & Expected Ranges\n",
    "\n",
    "- On EuroSAT (RGB), **zero-shot** CLIP with a good prompt typically lands around **~50–60% top-1** (depends on model size and prompt quality).  \n",
    "- **Prompt ensembles** (averaging logits) often give a small but consistent bump.  \n",
    "- If your numbers are dramatically lower, check image preprocessing resolution, label strings, and that the dataset split is stratified.\n",
    "\n",
    "## Next Steps (Week 2 Preview)\n",
    "- Freeze the visual encoder and train a **linear probe** on k-shot subsets (k=5 or 10).  \n",
    "- Optionally unfreeze the last transformer block for a short fine-tune.  \n",
    "- Keep the same validation split for apples-to-apples comparisons.\n",
    "\n",
    "---\n",
    "\n",
    "**Artifacts saved** to `./results/`:\n",
    "- `week1_zero_shot_results.json` — raw metrics per setting  \n",
    "- `week1_zero_shot_summary.csv` — compact table (top-1/top-5)  \n",
    "- `confusion_matrix_ensemble.png` — confusion matrix figure  \n",
    "- `per_class_accuracy_ensemble.png` — per-class bar chart  \n",
    "- `metadata.json` — run config\n"
   ]
  }
 ],
 "metadata": {
  "kernelspec": {
   "display_name": "clip312",
   "language": "python",
   "name": "python3"
  },
  "language_info": {
   "codemirror_mode": {
    "name": "ipython",
    "version": 3
   },
   "file_extension": ".py",
   "mimetype": "text/x-python",
   "name": "python",
   "nbconvert_exporter": "python",
   "pygments_lexer": "ipython3",
   "version": "3.12.12"
  }
 },
 "nbformat": 4,
 "nbformat_minor": 5
}
